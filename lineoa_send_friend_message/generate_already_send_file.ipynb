{
 "cells": [
  {
   "cell_type": "code",
   "execution_count": null,
   "metadata": {},
   "outputs": [
    {
     "name": "stdout",
     "output_type": "stream",
     "text": [
      "['exclude: Slow Jam 慢果醬 x 家音Showmore',\n",
      " 'exclude: 老神在在瓦罐煨湯 x Sonia',\n",
      " 'exclude: 恬（lilika）',\n",
      " 'exclude: 陳凱翔 (弘翊精機)',\n",
      " 'exclude: 潘 (雅豐家)',\n",
      " 'exclude: 集美購物網 x 家樂富Showmore',\n",
      " 'exclude: 濃Bagel x 濃濃濃Showmore',\n",
      " 'exclude: 瑋婷  (精傑實業)',\n",
      " 'exclude: 玉函 Emily(林伯網路商城)',\n",
      " 'exclude: 黃昱潔(富億食品/ 鵝梨)',\n",
      " 'exclude: 玖貳伍柒團購平台 x 晶饌蔬果',\n",
      " 'exclude: 玫小妞(鵝梨/富億食品)',\n",
      " 'exclude: 琬珍~天天[[火箭嚴選]]']\n"
     ]
    }
   ],
   "source": [
    "import os\n",
    "import re\n",
    "from pprint import pprint\n",
    "\n",
    "round = 1 # please modify this number\n",
    "\n",
    "# Define pattern to match filenames like \"output_{k}.txt\"\n",
    "pattern = re.compile(r\"^output_\\d+\\.txt$\")\n",
    "\n",
    "already_send = []\n",
    "# List all files in the current directory and filter by pattern\n",
    "for filename in os.listdir(\".\"):\n",
    "    if pattern.match(filename):\n",
    "        file = open(filename,'r')\n",
    "        lines = file.readlines()\n",
    "        for line in lines:\n",
    "            already_send.append(line.strip('\\n'))\n",
    "pprint(already_send)"
   ]
  },
  {
   "cell_type": "code",
   "execution_count": 27,
   "metadata": {},
   "outputs": [
    {
     "data": {
      "text/plain": [
       "171"
      ]
     },
     "execution_count": 27,
     "metadata": {},
     "output_type": "execute_result"
    }
   ],
   "source": [
    "len(already_send)"
   ]
  },
  {
   "cell_type": "code",
   "execution_count": null,
   "metadata": {},
   "outputs": [],
   "source": [
    "with open(f\"already_send_{round}.txt\", \"w\", encoding=\"utf-8\") as already_send_file:\n",
    "    for line in already_send:\n",
    "        already_send_file.write(line + \"\\n\")"
   ]
  }
 ],
 "metadata": {
  "kernelspec": {
   "display_name": "py3.8",
   "language": "python",
   "name": "python3"
  },
  "language_info": {
   "codemirror_mode": {
    "name": "ipython",
    "version": 3
   },
   "file_extension": ".py",
   "mimetype": "text/x-python",
   "name": "python",
   "nbconvert_exporter": "python",
   "pygments_lexer": "ipython3",
   "version": "3.8.20"
  }
 },
 "nbformat": 4,
 "nbformat_minor": 2
}
